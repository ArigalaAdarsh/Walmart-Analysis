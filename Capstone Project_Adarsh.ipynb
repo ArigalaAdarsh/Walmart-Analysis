{
 "cells": [
  {
   "cell_type": "markdown",
   "id": "e5683ae4",
   "metadata": {},
   "source": [
    "# Importing Necessary Packages"
   ]
  },
  {
   "cell_type": "code",
   "execution_count": null,
   "id": "8ea9c84c",
   "metadata": {},
   "outputs": [],
   "source": [
    "import pandas as pd\n",
    "import matplotlib.pyplot as plt\n",
    "import seaborn as sns\n",
    "import numpy as np\n",
    "from statsmodels.tsa.stattools import adfuller\n",
    "from statsmodels.tsa.seasonal import seasonal_decompose\n",
    "from statsmodels.tsa.stattools import acf\n",
    "from statsmodels.tsa.stattools import pacf\n",
    "from statsmodels.graphics.tsaplots import plot_acf\n",
    "from statsmodels.graphics.tsaplots import plot_pacf\n",
    "import statsmodels.api as sm\n",
    "from statsmodels.tsa.statespace.sarimax import SARIMAX, SARIMAXResults"
   ]
  },
  {
   "cell_type": "markdown",
   "id": "a88da260",
   "metadata": {},
   "source": [
    "# Data Preprocessing"
   ]
  },
  {
   "cell_type": "code",
   "execution_count": null,
   "id": "83db3b79",
   "metadata": {},
   "outputs": [],
   "source": [
    "df=pd.read_csv(r\"C:\\Users\\Arigala.Adarsh\\Downloads\\re1386870regardingcapstoneproject\\Walmart (1).csv\")"
   ]
  },
  {
   "cell_type": "code",
   "execution_count": null,
   "id": "81cc92c4",
   "metadata": {},
   "outputs": [],
   "source": [
    "df"
   ]
  },
  {
   "cell_type": "markdown",
   "id": "1a135825",
   "metadata": {},
   "source": [
    "# Feature Name               &                                             Description\n",
    "\n",
    "- **Store**           :                                  Store number\n",
    "- **Date**         :                                      Week of Sales\n",
    "- **Weekly_Sales** :                                      Sales for the given store in that week\n",
    "- **Holiday_Flag**  :                                    If it is a holiday week\n",
    "- **Temperature**    :                                    Temperature on the day of the sale\n",
    "- **Fuel_Price**     :                                  Cost of the fuel in the region\n",
    "- **CPI Consumer**  :                                    Price Index\n",
    "- **Unemployment**    :                                   Unemployment Rate\n"
   ]
  },
  {
   "cell_type": "markdown",
   "id": "dee37aa8",
   "metadata": {},
   "source": [
    "# Exploratory Data Analysis(EDA)"
   ]
  },
  {
   "cell_type": "code",
   "execution_count": null,
   "id": "351bfa93",
   "metadata": {},
   "outputs": [],
   "source": [
    "df.shape"
   ]
  },
  {
   "cell_type": "code",
   "execution_count": null,
   "id": "05f0aa41",
   "metadata": {},
   "outputs": [],
   "source": [
    "df.columns"
   ]
  },
  {
   "cell_type": "code",
   "execution_count": null,
   "id": "b2e774e1",
   "metadata": {},
   "outputs": [],
   "source": [
    "df.info()"
   ]
  },
  {
   "cell_type": "code",
   "execution_count": null,
   "id": "4c9d389d",
   "metadata": {},
   "outputs": [],
   "source": [
    "df.describe()"
   ]
  },
  {
   "cell_type": "code",
   "execution_count": null,
   "id": "30f514d8",
   "metadata": {},
   "outputs": [],
   "source": [
    "df.isnull().sum()"
   ]
  },
  {
   "cell_type": "code",
   "execution_count": null,
   "id": "6d4ae7b3",
   "metadata": {},
   "outputs": [],
   "source": [
    "df.duplicated()"
   ]
  },
  {
   "cell_type": "code",
   "execution_count": null,
   "id": "56ae6133",
   "metadata": {},
   "outputs": [],
   "source": [
    "df.duplicated().sum()"
   ]
  },
  {
   "cell_type": "code",
   "execution_count": null,
   "id": "87010c03",
   "metadata": {},
   "outputs": [],
   "source": [
    "df.dtypes"
   ]
  },
  {
   "cell_type": "code",
   "execution_count": null,
   "id": "17fd9436",
   "metadata": {},
   "outputs": [],
   "source": [
    "df.Store.unique()"
   ]
  },
  {
   "cell_type": "code",
   "execution_count": null,
   "id": "62cffd0a",
   "metadata": {},
   "outputs": [],
   "source": [
    "df.Store.nunique()"
   ]
  },
  {
   "cell_type": "code",
   "execution_count": null,
   "id": "91971254",
   "metadata": {},
   "outputs": [],
   "source": [
    "df.Holiday_Flag.unique()"
   ]
  },
  {
   "cell_type": "markdown",
   "id": "5f17b3d2",
   "metadata": {},
   "source": [
    "#### Analzing Data by using visualization"
   ]
  },
  {
   "cell_type": "code",
   "execution_count": null,
   "id": "f41339c1",
   "metadata": {},
   "outputs": [],
   "source": [
    "sns.countplot(df.Holiday_Flag)\n",
    "plt.show()"
   ]
  },
  {
   "cell_type": "code",
   "execution_count": null,
   "id": "3ee63ce6",
   "metadata": {},
   "outputs": [],
   "source": [
    "sns.catplot(x='Holiday_Flag', y='Weekly_Sales', data=df)\n",
    "plt.show()"
   ]
  },
  {
   "cell_type": "code",
   "execution_count": null,
   "id": "a20826a5",
   "metadata": {},
   "outputs": [],
   "source": [
    "fuel_price = pd.pivot_table(df, values = \"Weekly_Sales\", index= \"Fuel_Price\")\n",
    "fuel_price.plot()\n",
    " "
   ]
  },
  {
   "cell_type": "code",
   "execution_count": null,
   "id": "b2369ab6",
   "metadata": {
    "scrolled": true
   },
   "outputs": [],
   "source": [
    "Temperature = pd.pivot_table(df, values = \"Weekly_Sales\", index= \"Temperature\")\n",
    "Temperature.plot()"
   ]
  },
  {
   "cell_type": "code",
   "execution_count": null,
   "id": "e16426e6",
   "metadata": {},
   "outputs": [],
   "source": [
    "CPI = pd.pivot_table(df, values = \"Weekly_Sales\", index= \"CPI\")\n",
    "CPI.plot()"
   ]
  },
  {
   "cell_type": "code",
   "execution_count": null,
   "id": "9645f003",
   "metadata": {},
   "outputs": [],
   "source": [
    "Unemployment=pd.pivot_table(values=\"Weekly_Sales\",index=\"Unemployment\",data=df)\n",
    "Unemployment.plot()"
   ]
  },
  {
   "cell_type": "markdown",
   "id": "adc26b58",
   "metadata": {},
   "source": [
    "### Holiday Vs Weekly Sales of all 45 stores"
   ]
  },
  {
   "cell_type": "code",
   "execution_count": null,
   "id": "3ad49972",
   "metadata": {},
   "outputs": [],
   "source": [
    "plt.subplots(9,5, figsize=(30,60))\n",
    "for i in range (1,46):\n",
    "    plt.subplot(9,5,i)\n",
    "    sns.regplot(x='Holiday_Flag', y='Weekly_Sales',data=df[df['Store']==i])\n",
    "    plt.title(f'Store:{i}')\n"
   ]
  },
  {
   "cell_type": "markdown",
   "id": "5df34ad8",
   "metadata": {},
   "source": [
    "### Temperature Vs Weekly Sales of all 45 stores"
   ]
  },
  {
   "cell_type": "code",
   "execution_count": null,
   "id": "546dcde8",
   "metadata": {},
   "outputs": [],
   "source": [
    "plt.scatter(df['Temperature'],df['Weekly_Sales'])\n",
    "plt.xlabel('Temperature')\n",
    "plt.ylabel(\"Weekly_Sales\")\n",
    "plt.show()"
   ]
  },
  {
   "cell_type": "code",
   "execution_count": null,
   "id": "7decd863",
   "metadata": {},
   "outputs": [],
   "source": [
    "plt.subplots(9,5, figsize=(30,60))\n",
    "for i in range (1,46):\n",
    "    plt.subplot(9,5,i)\n",
    "    sns.regplot(x='Temperature', y='Weekly_Sales', data=df[df['Store']==i])\n",
    "    plt.title(f'Store:{i}')"
   ]
  },
  {
   "cell_type": "markdown",
   "id": "9d396b27",
   "metadata": {},
   "source": [
    "### Fuel Vs Weekly Sales of all 45 stores"
   ]
  },
  {
   "cell_type": "code",
   "execution_count": null,
   "id": "fbaaec5d",
   "metadata": {},
   "outputs": [],
   "source": [
    "plt.scatter(df['Fuel_Price'],df['Weekly_Sales'])\n",
    "plt.xlabel('Fuel_Price')\n",
    "plt.ylabel(\"Weekly_Sales\")\n",
    "plt.show()"
   ]
  },
  {
   "cell_type": "code",
   "execution_count": null,
   "id": "4e046a79",
   "metadata": {},
   "outputs": [],
   "source": [
    "plt.subplots(9,5, figsize=(30,60))\n",
    "for i in range (1,46):\n",
    "    plt.subplot(9,5,i)\n",
    "    sns.regplot(x='Fuel_Price', y='Weekly_Sales', data=df[df['Store']==i])\n",
    "    plt.title(f'Store:{i}')"
   ]
  },
  {
   "cell_type": "markdown",
   "id": "0cb13e0d",
   "metadata": {},
   "source": [
    "### CPI Vs Weekly Sales of all 45 stores"
   ]
  },
  {
   "cell_type": "code",
   "execution_count": null,
   "id": "26f66c14",
   "metadata": {},
   "outputs": [],
   "source": [
    "plt.scatter(df[\"CPI\"],df['Weekly_Sales'])\n",
    "plt.xlabel('CPI')\n",
    "plt.ylabel(\"Weekly_Sales\")\n",
    "plt.show()"
   ]
  },
  {
   "cell_type": "code",
   "execution_count": null,
   "id": "66a6b37d",
   "metadata": {},
   "outputs": [],
   "source": [
    "plt.subplots(9,5, figsize=(30,60))\n",
    "for i in range (1,46):\n",
    "    plt.subplot(9,5,i)\n",
    "    sns.regplot(x='CPI', y='Weekly_Sales', data=df[df['Store']==i])\n",
    "    plt.title(f'Store:{i}')"
   ]
  },
  {
   "cell_type": "markdown",
   "id": "8c953d04",
   "metadata": {},
   "source": [
    "### Unemployment Vs Weekly Sales of all 45 stores"
   ]
  },
  {
   "cell_type": "code",
   "execution_count": null,
   "id": "8d24b559",
   "metadata": {},
   "outputs": [],
   "source": [
    "plt.scatter(df['Unemployment'],df['Weekly_Sales'])\n",
    "plt.xlabel('Unemployment')\n",
    "plt.ylabel(\"Weekly_Sales\")\n",
    "plt.show()"
   ]
  },
  {
   "cell_type": "code",
   "execution_count": null,
   "id": "63443ea7",
   "metadata": {},
   "outputs": [],
   "source": [
    "plt.subplots(9,5, figsize=(30,60))\n",
    "for i in range (1,46):\n",
    "    plt.subplot(9,5,i)\n",
    "    sns.regplot(x='Unemployment', y='Weekly_Sales', data=df[df['Store']==i])\n",
    "    plt.title(f'Store:{i}')"
   ]
  },
  {
   "cell_type": "code",
   "execution_count": null,
   "id": "f2abf0c6",
   "metadata": {},
   "outputs": [],
   "source": [
    "plt.figure(figsize=(20,8))\n",
    "sns.heatmap(df.corr(),annot=True)\n",
    "plt.show()"
   ]
  },
  {
   "cell_type": "markdown",
   "id": "654f64c1",
   "metadata": {},
   "source": [
    "# Insights on Walmart Dataset"
   ]
  },
  {
   "cell_type": "markdown",
   "id": "052874a9",
   "metadata": {},
   "source": [
    "### A) If the weekly sales are affected by the unemployment rate, if yes - which stores are suffering the most?"
   ]
  },
  {
   "cell_type": "code",
   "execution_count": null,
   "id": "d33d1a50",
   "metadata": {},
   "outputs": [],
   "source": [
    "plt.figure(figsize=(18,8))\n",
    "sns.scatterplot(df['Weekly_Sales'],df['Unemployment'])\n",
    "plt.show()"
   ]
  },
  {
   "cell_type": "code",
   "execution_count": null,
   "id": "31741407",
   "metadata": {},
   "outputs": [],
   "source": [
    "plt.figure(figsize=(18,8))\n",
    "sns.barplot(df['Store'],df['Weekly_Sales'])\n",
    "plt.show()"
   ]
  },
  {
   "cell_type": "code",
   "execution_count": null,
   "id": "4ef550d1",
   "metadata": {},
   "outputs": [],
   "source": [
    "plt.figure(figsize=(18,8))\n",
    "sns.barplot(df['Store'],df['Unemployment'])\n",
    "plt.show()"
   ]
  },
  {
   "cell_type": "code",
   "execution_count": null,
   "id": "7dba9b88",
   "metadata": {},
   "outputs": [],
   "source": [
    "Total_by_store = df.groupby('Store').agg({'Weekly_Sales': 'sum', 'Unemployment': 'sum'})\n",
    "Total_by_store "
   ]
  },
  {
   "cell_type": "code",
   "execution_count": null,
   "id": "b932b9f8",
   "metadata": {},
   "outputs": [],
   "source": [
    "store_correlation=df.groupby('Store')['Weekly_Sales','Unemployment'].corr()['Unemployment']\n",
    "print(store_correlation.idxmin())"
   ]
  },
  {
   "cell_type": "markdown",
   "id": "31decee0",
   "metadata": {},
   "source": [
    "- Store **12,28,38** has more unempoloyment i.e 1875.657.\n",
    "- Unemployment effect is showing more on Store **38**.  "
   ]
  },
  {
   "cell_type": "markdown",
   "id": "b719bdc1",
   "metadata": {},
   "source": [
    "### B) If the weekly sales show a seasonal trend, when and what could be the reason?\n"
   ]
  },
  {
   "cell_type": "code",
   "execution_count": null,
   "id": "0010ac97",
   "metadata": {},
   "outputs": [],
   "source": [
    "#seasonal Decompose\n",
    "result=seasonal_decompose(df['Weekly_Sales'],model='additive', period=7)\n",
    "\n",
    "result.plot()\n",
    "plt.show()"
   ]
  },
  {
   "cell_type": "code",
   "execution_count": null,
   "id": "c524127c",
   "metadata": {},
   "outputs": [],
   "source": [
    "#Addictive\n",
    "new_df_add=pd.concat([result.seasonal,result.trend,result.resid,result.observed],axis=1)\n",
    "new_df_add.columns=[\"seasonality\",\"trend\",\"residual\",\"actual_values\"]\n",
    "new_df_add.head(5)\n"
   ]
  },
  {
   "cell_type": "code",
   "execution_count": null,
   "id": "7b9190d0",
   "metadata": {},
   "outputs": [],
   "source": [
    "result=seasonal_decompose(df['Weekly_Sales'],model='multiplicative', period=7)\n",
    "result.plot()\n",
    "plt.show()"
   ]
  },
  {
   "cell_type": "code",
   "execution_count": null,
   "id": "38207fbc",
   "metadata": {},
   "outputs": [],
   "source": [
    "#Addictive\n",
    "new_df_mul=pd.concat([result.seasonal,result.trend,result.resid,result.observed],axis=1)\n",
    "new_df_mul.columns=[\"seasonality\",\"trend\",\"residual\",\"actual_values\"]\n",
    "new_df_mul.head(5)\n"
   ]
  },
  {
   "cell_type": "code",
   "execution_count": null,
   "id": "69f1d5e4",
   "metadata": {},
   "outputs": [],
   "source": [
    "sns.distplot(df['Weekly_Sales'],hist=True)\n",
    "plt.plot()"
   ]
  },
  {
   "cell_type": "markdown",
   "id": "ee7d5548",
   "metadata": {},
   "source": [
    " - Weekly sales show a seasonal trend... "
   ]
  },
  {
   "cell_type": "code",
   "execution_count": null,
   "id": "84dec131",
   "metadata": {},
   "outputs": [],
   "source": [
    "df.Holiday_Flag.value_counts()"
   ]
  },
  {
   "cell_type": "code",
   "execution_count": null,
   "id": "e89d28e3",
   "metadata": {},
   "outputs": [],
   "source": [
    "Total_by_store = df.groupby(['Holiday_Flag'],as_index=False).agg({'Weekly_Sales': 'sum'})\n",
    "Total_by_store "
   ]
  },
  {
   "cell_type": "code",
   "execution_count": null,
   "id": "1ba806ce",
   "metadata": {},
   "outputs": [],
   "source": [
    "plt.figure(figsize=(18,8))\n",
    "sns.barplot(Total_by_store['Holiday_Flag'],Total_by_store['Weekly_Sales'])\n",
    "plt.show()"
   ]
  },
  {
   "cell_type": "markdown",
   "id": "47c8bf25",
   "metadata": {},
   "source": [
    "- Here we can observe that on  Non Holiday Week -Sales is more than the  Holiday Week"
   ]
  },
  {
   "cell_type": "code",
   "execution_count": null,
   "id": "1fb88a3b",
   "metadata": {
    "scrolled": true
   },
   "outputs": [],
   "source": [
    "Total_by_store = df.groupby(['Store','Holiday_Flag'],as_index=False).agg({'Weekly_Sales': 'sum','Temperature':\"mean\"})\n",
    "Total_by_store "
   ]
  },
  {
   "cell_type": "code",
   "execution_count": null,
   "id": "7e88b15e",
   "metadata": {},
   "outputs": [],
   "source": [
    "Total_by_store[Total_by_store[\"Weekly_Sales\"]==Total_by_store[\"Weekly_Sales\"].max()] "
   ]
  },
  {
   "cell_type": "code",
   "execution_count": null,
   "id": "1e3b2f24",
   "metadata": {},
   "outputs": [],
   "source": [
    "Total_by_store[Total_by_store[\"Weekly_Sales\"]==Total_by_store[\"Weekly_Sales\"].min()]"
   ]
  },
  {
   "cell_type": "markdown",
   "id": "6c6f7cab",
   "metadata": {},
   "source": [
    "-We can observe that on Sotre 20 Non Holiday Weekday sales is more and temperature is less\n",
    "-On Holiday Weekday Sales is less and Temperature is More."
   ]
  },
  {
   "cell_type": "code",
   "execution_count": null,
   "id": "ca88f75b",
   "metadata": {},
   "outputs": [],
   "source": [
    " "
   ]
  },
  {
   "cell_type": "markdown",
   "id": "01ce299d",
   "metadata": {},
   "source": [
    "### C) Does temperature affect the weekly sales in any manner?"
   ]
  },
  {
   "cell_type": "code",
   "execution_count": null,
   "id": "b458b7e9",
   "metadata": {},
   "outputs": [],
   "source": [
    "plt.figure(figsize=(18,8))\n",
    "sns.scatterplot(df['Temperature'],df['Weekly_Sales'])\n",
    "plt.show()"
   ]
  },
  {
   "cell_type": "code",
   "execution_count": null,
   "id": "1af60313",
   "metadata": {
    "scrolled": true
   },
   "outputs": [],
   "source": [
    "plt.figure(figsize=(18,8))\n",
    "sns.barplot(df['Store'],df['Temperature'])\n",
    "plt.show()"
   ]
  },
  {
   "cell_type": "code",
   "execution_count": null,
   "id": "ef741403",
   "metadata": {},
   "outputs": [],
   "source": [
    "plt.figure(figsize=(18,8))\n",
    "sns.barplot(df['Store'],df['Weekly_Sales'])\n",
    "plt.show()"
   ]
  },
  {
   "cell_type": "code",
   "execution_count": null,
   "id": "3e4b0b09",
   "metadata": {},
   "outputs": [],
   "source": [
    "plt.subplots(9,5, figsize=(30,50))\n",
    "for i in range (1,46):\n",
    "    plt.subplot(9,5,i)\n",
    "    sns.regplot(x='Temperature', y='Weekly_Sales', data=df[df['Store']==i])\n",
    "    plt.title(f'Store:{i}')"
   ]
  },
  {
   "cell_type": "code",
   "execution_count": null,
   "id": "afae6114",
   "metadata": {},
   "outputs": [],
   "source": [
    "Total_by_temp = df.groupby('Temperature',as_index=False).agg({'Weekly_Sales': 'sum'})\n",
    "Total_by_temp "
   ]
  },
  {
   "cell_type": "code",
   "execution_count": null,
   "id": "c97c0fb8",
   "metadata": {},
   "outputs": [],
   "source": [
    "plt.plot(Total_by_temp['Temperature'],Total_by_temp['Weekly_Sales'])\n",
    "plt.show()"
   ]
  },
  {
   "cell_type": "code",
   "execution_count": null,
   "id": "753aa4a8",
   "metadata": {},
   "outputs": [],
   "source": [
    "Total_by_store = df.groupby(['Store'], as_index=False).agg({'Weekly_Sales': 'sum', 'Temperature': 'mean'})\n",
    "sns.lineplot(x='Temperature', y='Weekly_Sales', data=Total_by_store)"
   ]
  },
  {
   "cell_type": "markdown",
   "id": "8202b53a",
   "metadata": {},
   "source": [
    "- Temperature affects we can observer above visualization at High Weekly Sales at lower temperature\n",
    "- At Low Weekly Sales at higher temperature"
   ]
  },
  {
   "cell_type": "markdown",
   "id": "8249351c",
   "metadata": {},
   "source": [
    "### D) How is the Consumer Price index affecting the weekly sales of various stores?\n"
   ]
  },
  {
   "cell_type": "code",
   "execution_count": null,
   "id": "04bf27a4",
   "metadata": {},
   "outputs": [],
   "source": [
    "plt.scatter(df[\"CPI\"],df['Weekly_Sales'])\n",
    "plt.xlabel('CPI')\n",
    "plt.ylabel(\"Weekly_Sales\")\n",
    "plt.show()"
   ]
  },
  {
   "cell_type": "code",
   "execution_count": null,
   "id": "8b2d2e73",
   "metadata": {},
   "outputs": [],
   "source": [
    "plt.figure(figsize=(18,8))\n",
    "sns.barplot(df['Store'],df['CPI'])\n",
    "plt.show()"
   ]
  },
  {
   "cell_type": "code",
   "execution_count": null,
   "id": "90b648b4",
   "metadata": {},
   "outputs": [],
   "source": [
    "plt.figure(figsize=(18,8))\n",
    "sns.barplot(df['Store'],df['Weekly_Sales'])\n",
    "plt.show()"
   ]
  },
  {
   "cell_type": "code",
   "execution_count": null,
   "id": "1a40ce61",
   "metadata": {},
   "outputs": [],
   "source": [
    "Total_by_store = df.groupby('Store').agg({'Weekly_Sales': 'sum', 'CPI': 'sum'})\n",
    "Total_by_store "
   ]
  },
  {
   "cell_type": "code",
   "execution_count": null,
   "id": "7d484e72",
   "metadata": {},
   "outputs": [],
   "source": [
    "Total_by_store[Total_by_store.CPI==Total_by_store.CPI.max()]"
   ]
  },
  {
   "cell_type": "code",
   "execution_count": null,
   "id": "c0159afc",
   "metadata": {},
   "outputs": [],
   "source": [
    "Total_by_store[Total_by_store.CPI==Total_by_store.CPI.min()]"
   ]
  },
  {
   "cell_type": "markdown",
   "id": "f08a295f",
   "metadata": {},
   "source": [
    "- Consumer Index(CPI)  affects we can observer above visualization at High Weekly Sales CPI is low.\n",
    "- At Low Weekly Sales CPI is high."
   ]
  },
  {
   "cell_type": "markdown",
   "id": "7ac32a7d",
   "metadata": {},
   "source": [
    "### E) Top performing stores according to the historical data.\n"
   ]
  },
  {
   "cell_type": "code",
   "execution_count": null,
   "id": "1ce6c17d",
   "metadata": {},
   "outputs": [],
   "source": [
    "Total_data_by_store=df.groupby('Store',as_index=False).agg({\"Weekly_Sales\":\"sum\"})\n",
    "Top_sales_store=Total_data_by_store.sort_values(by='Weekly_Sales',ascending=False)\n",
    "Top_sales_store"
   ]
  },
  {
   "cell_type": "code",
   "execution_count": null,
   "id": "37d74f85",
   "metadata": {},
   "outputs": [],
   "source": [
    "top_5_stores=Top_sales_store.head()\n",
    "top_5_stores.reset_index(drop=True)"
   ]
  },
  {
   "cell_type": "markdown",
   "id": "2ce2bf3a",
   "metadata": {},
   "source": [
    "- From above result we can observe the top performing stores."
   ]
  },
  {
   "cell_type": "markdown",
   "id": "85aec623",
   "metadata": {},
   "source": [
    "### F) The worst performing store, and how significant is the difference between the highest and lowest performing stores."
   ]
  },
  {
   "cell_type": "code",
   "execution_count": null,
   "id": "f202faa5",
   "metadata": {},
   "outputs": [],
   "source": [
    "Total_data_by_store=df.groupby('Store',as_index=False).agg({\"Weekly_Sales\":\"sum\",\"Temperature\":\"mean\",\"CPI\":\"sum\",\"Unemployment\":\"mean\"})\n",
    "Total_data_by_store"
   ]
  },
  {
   "cell_type": "code",
   "execution_count": null,
   "id": "24ec09e5",
   "metadata": {},
   "outputs": [],
   "source": [
    "Lowest_Store=Total_data_by_store.loc[(Total_data_by_store.Weekly_Sales==Total_data_by_store.Weekly_Sales.min())] \n",
    "Lowest_Store"
   ]
  },
  {
   "cell_type": "code",
   "execution_count": null,
   "id": "6b3970a1",
   "metadata": {},
   "outputs": [],
   "source": [
    "Highest_Store=Total_data_by_store.loc[(Total_data_by_store.Weekly_Sales==Total_data_by_store.Weekly_Sales.max())] \n",
    "Highest_Store"
   ]
  },
  {
   "cell_type": "markdown",
   "id": "f5e3b902",
   "metadata": {},
   "source": [
    "-- From above analysis Temperatue & Unemployement on lowest store is high that effects the sales"
   ]
  },
  {
   "cell_type": "code",
   "execution_count": null,
   "id": "12c60ee1",
   "metadata": {},
   "outputs": [],
   "source": [
    "# Extract the 'Weekly_Sales' values for the lowest and highest stores\n",
    "lowest_sales = Lowest_Store['Weekly_Sales'].values[0]\n",
    "highest_sales = Highest_Store['Weekly_Sales'].values[0]\n",
    "\n",
    "# Calculate the difference\n",
    "difference = highest_sales - lowest_sales\n",
    "\n",
    "print(\"Worst Performing Store:\", Lowest_Store['Store'].values[0])\n",
    "print(\"Best Performing Store:\",Highest_Store['Store'].values[0])\n",
    "print(\"Difference between the highest and lowest store sales:\", difference)\n"
   ]
  },
  {
   "cell_type": "code",
   "execution_count": null,
   "id": "aea2b824",
   "metadata": {},
   "outputs": [],
   "source": [
    "#two sample t-test for unequal variances\n",
    "from scipy.stats import ttest_ind\n",
    "\n",
    "t_stat_2, p_val_2 = ttest_ind(Highest_Store['Store'].values[0],Lowest_Store['Store'].values[0], equal_var=False)\n",
    "print(t_stat_2, p_val_2)"
   ]
  },
  {
   "cell_type": "code",
   "execution_count": null,
   "id": "3ed488d6",
   "metadata": {},
   "outputs": [],
   "source": [
    "df.dtypes"
   ]
  },
  {
   "cell_type": "markdown",
   "id": "3ce9c312",
   "metadata": {},
   "source": [
    "##### **Converting Date data_type(object ) to datetime(datetime64) data_types**"
   ]
  },
  {
   "cell_type": "code",
   "execution_count": null,
   "id": "c677974b",
   "metadata": {},
   "outputs": [],
   "source": [
    "df.Date=pd.to_datetime(df.Date,format=\"%d-%m-%Y\")"
   ]
  },
  {
   "cell_type": "code",
   "execution_count": null,
   "id": "77b8f2ab",
   "metadata": {},
   "outputs": [],
   "source": [
    "df.Date.dtypes"
   ]
  },
  {
   "cell_type": "code",
   "execution_count": null,
   "id": "ecc02a6c",
   "metadata": {},
   "outputs": [],
   "source": [
    "df=df.set_index(\"Date\")"
   ]
  },
  {
   "cell_type": "code",
   "execution_count": null,
   "id": "a86f4e1c",
   "metadata": {},
   "outputs": [],
   "source": [
    "df"
   ]
  },
  {
   "cell_type": "code",
   "execution_count": null,
   "id": "60b99271",
   "metadata": {},
   "outputs": [],
   "source": [
    "df.shape"
   ]
  },
  {
   "cell_type": "markdown",
   "id": "77204c9f",
   "metadata": {},
   "source": [
    "# Time Series Analysis"
   ]
  },
  {
   "cell_type": "code",
   "execution_count": null,
   "id": "74898042",
   "metadata": {
    "scrolled": true
   },
   "outputs": [],
   "source": [
    "df_target=df.loc[:,['Store',\"Weekly_Sales\"]]"
   ]
  },
  {
   "cell_type": "code",
   "execution_count": null,
   "id": "68e93dc9",
   "metadata": {},
   "outputs": [],
   "source": [
    "df_target"
   ]
  },
  {
   "cell_type": "code",
   "execution_count": null,
   "id": "cf889279",
   "metadata": {},
   "outputs": [],
   "source": [
    "df_target.dtypes"
   ]
  },
  {
   "cell_type": "code",
   "execution_count": null,
   "id": "f860d064",
   "metadata": {
    "scrolled": true
   },
   "outputs": [],
   "source": [
    "from pmdarima import auto_arima\n",
    "model = auto_arima(df[\"Weekly_Sales\"], seasonal=True, stepwise=True, trace=True)"
   ]
  },
  {
   "cell_type": "markdown",
   "id": "74cb550c",
   "metadata": {},
   "source": [
    "### Store_1 Dataset"
   ]
  },
  {
   "cell_type": "code",
   "execution_count": null,
   "id": "9cc5e242",
   "metadata": {},
   "outputs": [],
   "source": [
    "result=adfuller(df_target[df_target['Store']==1]['Weekly_Sales']) \n",
    "result"
   ]
  },
  {
   "cell_type": "markdown",
   "id": "f3a3f5e9",
   "metadata": {},
   "source": [
    "#### From the above, we see that that p value is close to 0 and we can conclude that the data is stationary\n"
   ]
  },
  {
   "cell_type": "code",
   "execution_count": null,
   "id": "5e0767ab",
   "metadata": {},
   "outputs": [],
   "source": [
    "p_value=result[1]\n",
    "p_value\n",
    "if p_value <=0.05:\n",
    "    print('Stationarity is present')\n",
    "else:\n",
    "    print('NO Stationarity is present')"
   ]
  },
  {
   "cell_type": "code",
   "execution_count": null,
   "id": "37240016",
   "metadata": {},
   "outputs": [],
   "source": [
    "store1=pd.DataFrame(df_target[df_target['Store']==1]['Weekly_Sales'])\n",
    "store1=store1.sort_index()\n",
    "store1"
   ]
  },
  {
   "cell_type": "markdown",
   "id": "80f22549",
   "metadata": {},
   "source": [
    "#### Visualizing Seasonality "
   ]
  },
  {
   "cell_type": "code",
   "execution_count": null,
   "id": "cd8ef0a7",
   "metadata": {},
   "outputs": [],
   "source": [
    "decompose=seasonal_decompose(store1.dropna())\n",
    "decompose_plot=decompose.plot()"
   ]
  },
  {
   "cell_type": "code",
   "execution_count": null,
   "id": "43a9af7e",
   "metadata": {},
   "outputs": [],
   "source": [
    "acf_plot=acf(store1[\"Weekly_Sales\"])"
   ]
  },
  {
   "cell_type": "code",
   "execution_count": null,
   "id": "b95c06b4",
   "metadata": {},
   "outputs": [],
   "source": [
    "plot_acf(acf_plot)\n",
    "plt.show()"
   ]
  },
  {
   "cell_type": "code",
   "execution_count": null,
   "id": "01d3f3d8",
   "metadata": {},
   "outputs": [],
   "source": [
    "plot_pacf(store1[\"Weekly_Sales\"],lags=20)\n",
    "plt.show()"
   ]
  },
  {
   "cell_type": "code",
   "execution_count": null,
   "id": "72dd1d77",
   "metadata": {},
   "outputs": [],
   "source": [
    "store1['lag1']=store1['Weekly_Sales'].diff()"
   ]
  },
  {
   "cell_type": "code",
   "execution_count": null,
   "id": "1214ba7b",
   "metadata": {},
   "outputs": [],
   "source": [
    "store1['lag52']=store1['Weekly_Sales'].diff(52)"
   ]
  },
  {
   "cell_type": "code",
   "execution_count": null,
   "id": "e3ef439d",
   "metadata": {},
   "outputs": [],
   "source": [
    "pacf_values=plot_pacf(store1['lag52'].dropna(),lags=20)"
   ]
  },
  {
   "cell_type": "code",
   "execution_count": null,
   "id": "34d32d98",
   "metadata": {},
   "outputs": [],
   "source": [
    "acf_values=plot_acf(store1['lag52'].dropna(),lags=20)"
   ]
  },
  {
   "cell_type": "code",
   "execution_count": null,
   "id": "53454458",
   "metadata": {},
   "outputs": [],
   "source": [
    "# From the above, pacf(p) ,acf(q) value is 0\n",
    "pacf_values=sm.tsa.pacf(store1['Weekly_Sales'],nlags=20)\n",
    "pacf_values"
   ]
  },
  {
   "cell_type": "markdown",
   "id": "d76c690e",
   "metadata": {},
   "source": [
    "- p[1]=0.30 value will be near to zero then p=0 "
   ]
  },
  {
   "cell_type": "code",
   "execution_count": null,
   "id": "907cab04",
   "metadata": {},
   "outputs": [],
   "source": [
    "train = store1.iloc[:116]['Weekly_Sales']\n",
    "test = store1.iloc[117:]['Weekly_Sales']\n",
    " "
   ]
  },
  {
   "cell_type": "markdown",
   "id": "962aa6be",
   "metadata": {},
   "source": [
    "#### Training the Model"
   ]
  },
  {
   "cell_type": "code",
   "execution_count": null,
   "id": "521b6128",
   "metadata": {},
   "outputs": [],
   "source": [
    "model=SARIMAX(train,order=(0,1,0),seasonal_order=(0,1,0,52))\n",
    "model_fit = model.fit()\n",
    "model_fit.summary()"
   ]
  },
  {
   "cell_type": "markdown",
   "id": "fcfade32",
   "metadata": {},
   "source": [
    "### Testing the Model"
   ]
  },
  {
   "cell_type": "code",
   "execution_count": null,
   "id": "6aad9387",
   "metadata": {},
   "outputs": [],
   "source": [
    "pred = model_fit.predict(start= len(train),end=len(train)+len(test)- 1,dynamic=True)\n",
    " "
   ]
  },
  {
   "cell_type": "code",
   "execution_count": null,
   "id": "85022c86",
   "metadata": {},
   "outputs": [],
   "source": [
    "pred\n",
    " "
   ]
  },
  {
   "cell_type": "code",
   "execution_count": null,
   "id": "ce6095ca",
   "metadata": {},
   "outputs": [],
   "source": [
    "plt.figure(figsize=(20,10))\n",
    "plt.plot(store1['Weekly_Sales'],label=\"Original\")\n",
    "plt.plot(pred,label=\"Prediction\")\n",
    "plt.legend()\n",
    "plt.show()"
   ]
  },
  {
   "cell_type": "markdown",
   "id": "05c234a3",
   "metadata": {},
   "source": [
    "#### Forecasting for Next 12 Weekly_Sales"
   ]
  },
  {
   "cell_type": "code",
   "execution_count": null,
   "id": "d4f4477e",
   "metadata": {},
   "outputs": [],
   "source": [
    "forecast=model_fit.forecast(steps=12)"
   ]
  },
  {
   "cell_type": "code",
   "execution_count": null,
   "id": "e4d704dd",
   "metadata": {},
   "outputs": [],
   "source": [
    "plt.figure(figsize=(20,10))\n",
    "plt.plot(store1['Weekly_Sales'],label=\"Original\")\n",
    "plt.plot(pred,label=\"Prediction\")\n",
    "plt.plot(forecast,label=\"Forecast\")\n",
    "plt.legend()\n",
    "plt.show()"
   ]
  },
  {
   "cell_type": "code",
   "execution_count": null,
   "id": "0b441141",
   "metadata": {},
   "outputs": [],
   "source": [
    "# Assuming 'test' contains the actual values from your test dataset\n",
    "comparison = pd.DataFrame({'Actual': test, 'Predicted': pred})\n",
    "comparison.dropna(inplace=True)\n"
   ]
  },
  {
   "cell_type": "code",
   "execution_count": null,
   "id": "4924e61d",
   "metadata": {},
   "outputs": [],
   "source": [
    "from sklearn.metrics import mean_absolute_error, mean_squared_error\n",
    "\n",
    "mae = mean_absolute_error(comparison['Actual'], comparison['Predicted'])\n",
    "mse = mean_squared_error(comparison['Actual'], comparison['Predicted'])\n",
    "rmse = np.sqrt(mse)\n",
    "print(f'Mean Absolute Error (MAE): {mae}')\n",
    "print(f'Mean Squared Error (MSE): {mse}')\n",
    "print(f'Root Mean Squared Error (RMSE): {rmse}')\n"
   ]
  },
  {
   "cell_type": "code",
   "execution_count": null,
   "id": "b81d6a6b",
   "metadata": {},
   "outputs": [],
   "source": [
    "### Store_2 Dataset"
   ]
  },
  {
   "cell_type": "code",
   "execution_count": null,
   "id": "e1386b1f",
   "metadata": {},
   "outputs": [],
   "source": [
    "result=adfuller(df_target[df_target['Store']==2]['Weekly_Sales']) \n",
    "result"
   ]
  },
  {
   "cell_type": "code",
   "execution_count": null,
   "id": "e6dad531",
   "metadata": {},
   "outputs": [],
   "source": [
    "#### From the above, we see that that p value is close to 0 and we can conclude that the data is stationary\n"
   ]
  },
  {
   "cell_type": "code",
   "execution_count": null,
   "id": "a61e96b9",
   "metadata": {},
   "outputs": [],
   "source": [
    "p_value=result[1]\n",
    "p_value\n",
    "if p_value <=0.05:\n",
    "    print('Stationarity is present')\n",
    "else:\n",
    "    print('NO Stationarity is present')"
   ]
  },
  {
   "cell_type": "code",
   "execution_count": null,
   "id": "034d790d",
   "metadata": {},
   "outputs": [],
   "source": [
    "store2=pd.DataFrame(df_target[df_target['Store']==2]['Weekly_Sales'])\n",
    "store2=store2.sort_index()\n",
    "store2"
   ]
  },
  {
   "cell_type": "markdown",
   "id": "d8d4c84f",
   "metadata": {},
   "source": [
    "#### Visualizing Seasonality "
   ]
  },
  {
   "cell_type": "code",
   "execution_count": null,
   "id": "b290d615",
   "metadata": {},
   "outputs": [],
   "source": [
    "decompose=seasonal_decompose(store2.dropna())\n",
    "decompose.plot()"
   ]
  },
  {
   "cell_type": "code",
   "execution_count": null,
   "id": "45e53114",
   "metadata": {},
   "outputs": [],
   "source": [
    "plot_pacf(store2[\"Weekly_Sales\"],lags=20)\n",
    "plt.show()"
   ]
  },
  {
   "cell_type": "code",
   "execution_count": null,
   "id": "151ff3de",
   "metadata": {},
   "outputs": [],
   "source": [
    "store2['lag1']=store1['Weekly_Sales'].diff()\n",
    "store2['lag52']=store1['Weekly_Sales'].diff(52)"
   ]
  },
  {
   "cell_type": "code",
   "execution_count": null,
   "id": "38fbbd39",
   "metadata": {},
   "outputs": [],
   "source": [
    "pacf_values=plot_pacf(store1['lag52'].dropna(),lags=20)"
   ]
  },
  {
   "cell_type": "code",
   "execution_count": null,
   "id": "57176f44",
   "metadata": {},
   "outputs": [],
   "source": [
    "pacf_values=sm.tsa.pacf(store2['Weekly_Sales'],nlags=20)\n",
    "pacf_values"
   ]
  },
  {
   "cell_type": "markdown",
   "id": "d61a5f71",
   "metadata": {},
   "source": [
    "- p[1]=0.38 value will be near to zero then p=0 "
   ]
  },
  {
   "cell_type": "code",
   "execution_count": null,
   "id": "7b7f690b",
   "metadata": {},
   "outputs": [],
   "source": [
    "# From the above, pacf(p) ,acf(q) value is 0\n",
    "\n",
    "acf_values=plot_acf(store2['lag52'].dropna(),lags=20)"
   ]
  },
  {
   "cell_type": "code",
   "execution_count": null,
   "id": "cb48c3bb",
   "metadata": {},
   "outputs": [],
   "source": [
    " \n",
    "train = store2.iloc[:round(len(store2)*0.7)]['Weekly_Sales']\n",
    " "
   ]
  },
  {
   "cell_type": "markdown",
   "id": "b588c865",
   "metadata": {},
   "source": [
    "#### Training the Model"
   ]
  },
  {
   "cell_type": "code",
   "execution_count": null,
   "id": "d79251a5",
   "metadata": {},
   "outputs": [],
   "source": [
    "model=SARIMAX(train,order=(0,1,0),seasonal_order=(0,1,0,52))\n",
    "model_fit = model.fit()\n",
    "model_fit.summary()"
   ]
  },
  {
   "cell_type": "markdown",
   "id": "80195bc2",
   "metadata": {},
   "source": [
    "#### Testing the Model"
   ]
  },
  {
   "cell_type": "code",
   "execution_count": null,
   "id": "0a2c062a",
   "metadata": {},
   "outputs": [],
   "source": [
    "pred = model_fit.predict(start= len(train),end=len(store2)- 1,dynamic=True)\n",
    " "
   ]
  },
  {
   "cell_type": "code",
   "execution_count": null,
   "id": "5d48a0c7",
   "metadata": {},
   "outputs": [],
   "source": [
    "pred"
   ]
  },
  {
   "cell_type": "code",
   "execution_count": null,
   "id": "bb6aa915",
   "metadata": {},
   "outputs": [],
   "source": [
    "plt.figure(figsize=(20,10))\n",
    "plt.plot(store2['Weekly_Sales'],label=\"Original\")\n",
    "plt.plot(pred,label=\"Predicition\")\n",
    "plt.legend(loc=\"best\")\n",
    "plt.show()"
   ]
  },
  {
   "cell_type": "markdown",
   "id": "a5b4ce4b",
   "metadata": {},
   "source": [
    "#### Forecasting for Next 12 Weekly_Sales"
   ]
  },
  {
   "cell_type": "code",
   "execution_count": null,
   "id": "146957da",
   "metadata": {},
   "outputs": [],
   "source": [
    "forecast=model_fit.forecast(steps=12)"
   ]
  },
  {
   "cell_type": "code",
   "execution_count": null,
   "id": "e0148d63",
   "metadata": {},
   "outputs": [],
   "source": [
    "plt.figure(figsize=(20,10)) \n",
    "plt.plot(store2['Weekly_Sales'],label=\"Original\")\n",
    "plt.plot(pred,label=\"Prediction\")\n",
    "plt.plot(forecast,label=\"Forecast\")\n",
    "plt.legend()\n",
    "plt.show()"
   ]
  },
  {
   "cell_type": "code",
   "execution_count": null,
   "id": "02f7eb9c",
   "metadata": {},
   "outputs": [],
   "source": [
    "### Store_3 Dataset"
   ]
  },
  {
   "cell_type": "code",
   "execution_count": null,
   "id": "69e357b2",
   "metadata": {},
   "outputs": [],
   "source": [
    "result=adfuller(df_target[df_target[\"Store\"]==3]['Weekly_Sales'])\n",
    "result"
   ]
  },
  {
   "cell_type": "code",
   "execution_count": null,
   "id": "92a4da2c",
   "metadata": {},
   "outputs": [],
   "source": [
    "#### From the above, we see that that p value is close to 0 and we can conclude that the data is stationary\n"
   ]
  },
  {
   "cell_type": "code",
   "execution_count": null,
   "id": "277ba5e9",
   "metadata": {},
   "outputs": [],
   "source": [
    "if(result[1]<0.05):\n",
    "    print(\"Stationary is present\")\n",
    "else:\n",
    "    print(\"Not Stationary is present\")"
   ]
  },
  {
   "cell_type": "code",
   "execution_count": null,
   "id": "2da2773f",
   "metadata": {},
   "outputs": [],
   "source": [
    "store3=pd.DataFrame(df_target[df_target[\"Store\"]==3][\"Weekly_Sales\"])\n",
    "store3"
   ]
  },
  {
   "cell_type": "markdown",
   "id": "c5319a53",
   "metadata": {},
   "source": [
    "#### Visualizing Seasonality "
   ]
  },
  {
   "cell_type": "code",
   "execution_count": null,
   "id": "871fd29d",
   "metadata": {},
   "outputs": [],
   "source": [
    "decompose=seasonal_decompose(store3.dropna())\n",
    "decompose_plot=decompose.plot()"
   ]
  },
  {
   "cell_type": "code",
   "execution_count": null,
   "id": "ae1fa2a5",
   "metadata": {},
   "outputs": [],
   "source": [
    "plot_pacf=plot_pacf(store3,lags=20)"
   ]
  },
  {
   "cell_type": "code",
   "execution_count": null,
   "id": "eb830fa6",
   "metadata": {},
   "outputs": [],
   "source": [
    "pacf_values=sm.tsa.pacf(store3)\n",
    "pacf_values"
   ]
  },
  {
   "cell_type": "markdown",
   "id": "b5ef6d10",
   "metadata": {},
   "source": [
    "- p[1]=0.53 value will be near to zero then p=0 "
   ]
  },
  {
   "cell_type": "code",
   "execution_count": null,
   "id": "4e3e883e",
   "metadata": {},
   "outputs": [],
   "source": [
    "store3['lag1']=store3['Weekly_Sales'].diff()\n",
    "store3['lag52']=store3['Weekly_Sales'].diff(52)"
   ]
  },
  {
   "cell_type": "code",
   "execution_count": null,
   "id": "aef6c4ed",
   "metadata": {},
   "outputs": [],
   "source": [
    "# From the above, pacf(p) ,acf(q) value is 0\n",
    "\n",
    "acf_values = plot_acf(store3['lag52'].dropna(), lags=20)\n"
   ]
  },
  {
   "cell_type": "code",
   "execution_count": null,
   "id": "d0136d28",
   "metadata": {},
   "outputs": [],
   "source": [
    " \n",
    "train = store3.iloc[:round(len(store2)*0.7)]['Weekly_Sales']\n",
    " "
   ]
  },
  {
   "cell_type": "markdown",
   "id": "9f7373b7",
   "metadata": {},
   "source": [
    "#### Training the Model"
   ]
  },
  {
   "cell_type": "code",
   "execution_count": null,
   "id": "532bc4e1",
   "metadata": {},
   "outputs": [],
   "source": [
    "model=SARIMAX(train,order=(0,1,0),seasonal_order=(0,1,0,52))\n",
    "model_fit=model.fit()\n",
    "model_fit.summary()"
   ]
  },
  {
   "cell_type": "markdown",
   "id": "a7bb720c",
   "metadata": {},
   "source": [
    "#### Testing the Model"
   ]
  },
  {
   "cell_type": "code",
   "execution_count": null,
   "id": "7c7380ed",
   "metadata": {},
   "outputs": [],
   "source": [
    "pred=model_fit.predict(start=len(train),end=len(store3)-1,dynamic=True)\n",
    " \n",
    "pred"
   ]
  },
  {
   "cell_type": "code",
   "execution_count": null,
   "id": "abd5a52f",
   "metadata": {},
   "outputs": [],
   "source": [
    "plt.figure(figsize=(20,10))\n",
    "plt.plot(store3['Weekly_Sales'],label=\"Original\")\n",
    "plt.plot(pred,label=\"prediction\")\n",
    "plt.legend()\n",
    "plt.plot()"
   ]
  },
  {
   "cell_type": "markdown",
   "id": "9f7271ad",
   "metadata": {},
   "source": [
    "#### Forecasting for Next 12 Weekly_Sales"
   ]
  },
  {
   "cell_type": "code",
   "execution_count": null,
   "id": "053c2f0a",
   "metadata": {},
   "outputs": [],
   "source": [
    "forecast=model_fit.forecast(steps=12)"
   ]
  },
  {
   "cell_type": "code",
   "execution_count": null,
   "id": "777b24af",
   "metadata": {},
   "outputs": [],
   "source": [
    "plt.figure(figsize=(20,10))\n",
    "plt.plot(store3['Weekly_Sales'],label=\"Original\")\n",
    "plt.plot(pred,label=\"prediction\")\n",
    "plt.plot(forecast,label=\"Forecast\")\n",
    "plt.legend()\n",
    "plt.show()"
   ]
  },
  {
   "cell_type": "code",
   "execution_count": null,
   "id": "3fda63b5",
   "metadata": {},
   "outputs": [],
   "source": [
    "### Store_4 Dataset"
   ]
  },
  {
   "cell_type": "code",
   "execution_count": null,
   "id": "24ff76fd",
   "metadata": {},
   "outputs": [],
   "source": [
    "result=adfuller(df_target[df_target[\"Store\"]==3]['Weekly_Sales'])\n",
    "result"
   ]
  },
  {
   "cell_type": "code",
   "execution_count": null,
   "id": "f2f9ad84",
   "metadata": {},
   "outputs": [],
   "source": [
    "#### From the above, we see that that p value is close to 0 and we can conclude that the data is stationary\n"
   ]
  },
  {
   "cell_type": "code",
   "execution_count": null,
   "id": "fd202b26",
   "metadata": {},
   "outputs": [],
   "source": [
    "if(result[1]<0.05):\n",
    "    print(\"Stationary is present\")\n",
    "else:\n",
    "    print(\"Not Stationary is present\")"
   ]
  },
  {
   "cell_type": "code",
   "execution_count": null,
   "id": "ed825f4e",
   "metadata": {},
   "outputs": [],
   "source": [
    "store4=pd.DataFrame(df_target[df_target[\"Store\"]==4][\"Weekly_Sales\"])\n",
    "store4"
   ]
  },
  {
   "cell_type": "markdown",
   "id": "1d52b2af",
   "metadata": {},
   "source": [
    "#### Visualizing Seasonality "
   ]
  },
  {
   "cell_type": "code",
   "execution_count": null,
   "id": "4c08c42b",
   "metadata": {},
   "outputs": [],
   "source": [
    "decompose=seasonal_decompose(store4.dropna())\n",
    "decompose_plot=decompose.plot()"
   ]
  },
  {
   "cell_type": "code",
   "execution_count": null,
   "id": "6aa2565a",
   "metadata": {},
   "outputs": [],
   "source": [
    "from statsmodels.graphics.tsaplots import plot_pacf  # Import the plot_pacf function\n",
    "store4[\"lag1\"] = store4[\"Weekly_Sales\"].diff()\n",
    "store4[\"lag52\"] = store4[\"Weekly_Sales\"].diff(52)\n",
    "\n",
    "# Assign the result to a different variable, e.g., pacf_values\n",
    "pacf_values = plot_pacf(store4[\"Weekly_Sales\"].dropna(), lags=20)\n"
   ]
  },
  {
   "cell_type": "code",
   "execution_count": null,
   "id": "e30018c3",
   "metadata": {},
   "outputs": [],
   "source": [
    "import statsmodels.api as sm\n",
    "pacf_values = sm.tsa.pacf(store4['Weekly_Sales'])\n",
    "pacf_values"
   ]
  },
  {
   "cell_type": "markdown",
   "id": "57711c89",
   "metadata": {},
   "source": [
    "- p[1]=0.426 value will be near to zero then p=0 "
   ]
  },
  {
   "cell_type": "code",
   "execution_count": null,
   "id": "2ddcb162",
   "metadata": {},
   "outputs": [],
   "source": [
    "# From the above, pacf(p) ,acf(q) value is 0\n",
    "\n",
    "acf_values = plot_acf(store4['lag52'].dropna(), lags=20)\n"
   ]
  },
  {
   "cell_type": "code",
   "execution_count": null,
   "id": "6216506d",
   "metadata": {},
   "outputs": [],
   "source": [
    " \n",
    "train = store4.iloc[:round(len(store4)*0.7)]['Weekly_Sales']\n",
    " "
   ]
  },
  {
   "cell_type": "markdown",
   "id": "eb3c3754",
   "metadata": {},
   "source": [
    "#### Training the Model"
   ]
  },
  {
   "cell_type": "code",
   "execution_count": null,
   "id": "a950cf06",
   "metadata": {},
   "outputs": [],
   "source": [
    "model=SARIMAX(train,order=(0,1,0),seasonal_order=(0,1,0,52))\n",
    "model.fit=model.fit()\n",
    "model_fit.summary()"
   ]
  },
  {
   "cell_type": "markdown",
   "id": "872d44bf",
   "metadata": {},
   "source": [
    "#### Testing the Model"
   ]
  },
  {
   "cell_type": "code",
   "execution_count": null,
   "id": "20fa7c4b",
   "metadata": {},
   "outputs": [],
   "source": [
    "pred=model_fit.predict(start=len(train),end=len(store4)-1,dynamic=True)\n",
    " \n",
    "pred"
   ]
  },
  {
   "cell_type": "code",
   "execution_count": null,
   "id": "25b3fb59",
   "metadata": {},
   "outputs": [],
   "source": [
    "plt.figure(figsize=(20,10))\n",
    "plt.plot(store4['Weekly_Sales'],label=\"Original\")\n",
    "plt.plot(pred,label=\"prediction\")\n",
    "plt.legend()\n",
    "plt.show()"
   ]
  },
  {
   "cell_type": "markdown",
   "id": "9e143832",
   "metadata": {},
   "source": [
    "#### Forecasting for Next 12 Weekly_Sales"
   ]
  },
  {
   "cell_type": "code",
   "execution_count": null,
   "id": "11bf7982",
   "metadata": {},
   "outputs": [],
   "source": [
    "forecast=model_fit.forecast(steps=12)"
   ]
  },
  {
   "cell_type": "code",
   "execution_count": null,
   "id": "9ac39477",
   "metadata": {},
   "outputs": [],
   "source": [
    "plt.figure(figsize=(20,10))\n",
    "plt.plot(store4['Weekly_Sales'],label=\"Original\")\n",
    "plt.plot(pred,label=\"prediction\")\n",
    "plt.plot(forecast,label=\"Forecast\")\n",
    "plt.legend()\n",
    "plt.show()"
   ]
  },
  {
   "cell_type": "markdown",
   "id": "5e150247",
   "metadata": {},
   "source": [
    "# Foresting Week_Sales for 45 Stores"
   ]
  },
  {
   "cell_type": "code",
   "execution_count": null,
   "id": "43ab84b5",
   "metadata": {},
   "outputs": [],
   "source": [
    "for i in range(1,46):\n",
    "    new_data=pd.DataFrame(df[df[\"Store\"]==i][\"Weekly_Sales\"])\n",
    "    lag52=pd.DataFrame(new_data[\"Weekly_Sales\"].diff(52))\n",
    "    acf_values,confidence_intervals=sm.tsa.acf(lag52.dropna(),nlags=20,alpha=0.05)\n",
    "    pacf_values=sm.tsa.pacf(lag52.dropna(),nlags=20)\n",
    "    significant_acf = []\n",
    "    significant_pacf = []\n",
    "    for lag,acf,confident in zip(range(len(acf_values)),acf_values,confidence_intervals):\n",
    "        if(abs(acf)>confident[1]):\n",
    "            significant_acf.append(acf)\n",
    "        else:\n",
    "            break\n",
    "    for lag,pacf,confident in zip(range(len(pacf_values)),pacf_values,confidence_intervals):\n",
    "        if(abs(acf)>confident[1]):\n",
    "            significant_pacf.append(acf)\n",
    "        else:\n",
    "            break\n",
    "    p=len(significant_acf)\n",
    "    q=len(significant_pacf)\n",
    "    train=new_data[:round(len(new_data)*0.7)]\n",
    "    model=SARIMAX(train,order=(p,1,q),seasonal_order=(p,1,q,52))\n",
    "    model_fit=model.fit()\n",
    "    pred=model_fit.predict(start=len(train),end=len(new_data)-1,dynamic=True)\n",
    "    forecast=model_fit.forecast(steps=12)\n",
    "    plt.figure(figsize=(20,10))\n",
    "    plt.plot(new_data['Weekly_Sales'],label='Given_sales')\n",
    "    plt.plot(pred,label='Prediction')\n",
    "    plt.plot(forecast,label=\"12 weeks forecast\")\n",
    "    plt.legend()\n",
    "    plt.title(f'store {i}')\n",
    "    plt.show()\n",
    "    \n",
    "  \n"
   ]
  },
  {
   "cell_type": "markdown",
   "id": "fe3bdeef",
   "metadata": {},
   "source": [
    "- **From the Above visualization we can observe the next 12 weeks sales of the 45 Stores of Walmart.**"
   ]
  }
 ],
 "metadata": {
  "kernelspec": {
   "display_name": "Python 3 (ipykernel)",
   "language": "python",
   "name": "python3"
  },
  "language_info": {
   "codemirror_mode": {
    "name": "ipython",
    "version": 3
   },
   "file_extension": ".py",
   "mimetype": "text/x-python",
   "name": "python",
   "nbconvert_exporter": "python",
   "pygments_lexer": "ipython3",
   "version": "3.9.13"
  }
 },
 "nbformat": 4,
 "nbformat_minor": 5
}
